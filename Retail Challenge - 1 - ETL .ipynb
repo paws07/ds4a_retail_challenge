{
 "cells": [
  {
   "cell_type": "code",
   "execution_count": 1,
   "id": "6ab08ee7",
   "metadata": {
    "ExecuteTime": {
     "end_time": "2023-10-23T22:03:35.019361Z",
     "start_time": "2023-10-23T22:03:34.858058Z"
    }
   },
   "outputs": [
    {
     "name": "stdout",
     "output_type": "stream",
     "text": [
      " \u001b[0m\u001b[01;32mPresentation.pptx\u001b[0m*\r\n",
      "\u001b[01;32m'Retail Challange.png'\u001b[0m*\r\n",
      "\u001b[01;32m'Retail Challenge - 1 - ETL .ipynb'\u001b[0m*\r\n",
      "\u001b[01;32m'Retail Challenge - 2 - EDA.ipynb'\u001b[0m*\r\n",
      "\u001b[01;32m'Retail Challenge - 3.1 - Forecasting.ipynb'\u001b[0m*\r\n",
      "\u001b[01;32m'Retail Challenge - 3.2 - Segmentation.ipynb'\u001b[0m*\r\n",
      " \u001b[01;32monline_retail_II.xlsx\u001b[0m*\r\n",
      "\u001b[01;32m'~$Presentation.pptx'\u001b[0m*\r\n"
     ]
    }
   ],
   "source": [
    "%ls"
   ]
  },
  {
   "cell_type": "code",
   "execution_count": 2,
   "id": "f5ea8e1a",
   "metadata": {
    "ExecuteTime": {
     "end_time": "2023-10-23T22:03:35.479104Z",
     "start_time": "2023-10-23T22:03:35.078044Z"
    }
   },
   "outputs": [],
   "source": [
    "import pandas as pd"
   ]
  },
  {
   "cell_type": "code",
   "execution_count": 3,
   "id": "775edadc",
   "metadata": {
    "ExecuteTime": {
     "end_time": "2023-10-23T22:03:35.925601Z",
     "start_time": "2023-10-23T22:03:35.485108Z"
    }
   },
   "outputs": [],
   "source": [
    "# Read in the excel file\n",
    "retail_file = pd.ExcelFile('online_retail_II.xlsx')"
   ]
  },
  {
   "cell_type": "code",
   "execution_count": 4,
   "id": "b4154c2b",
   "metadata": {
    "ExecuteTime": {
     "end_time": "2023-10-23T22:05:32.626203Z",
     "start_time": "2023-10-23T22:03:35.929637Z"
    }
   },
   "outputs": [],
   "source": [
    "# Read individual sheets, combine\n",
    "retail = pd.concat([retail_file.parse(sheet) for sheet in retail_file.sheet_names])"
   ]
  },
  {
   "cell_type": "code",
   "execution_count": 5,
   "id": "edcd7877",
   "metadata": {
    "ExecuteTime": {
     "end_time": "2023-10-23T22:05:33.310476Z",
     "start_time": "2023-10-23T22:05:32.628858Z"
    }
   },
   "outputs": [
    {
     "name": "stdout",
     "output_type": "stream",
     "text": [
      "<class 'pandas.core.frame.DataFrame'>\n",
      "Int64Index: 1067371 entries, 0 to 541909\n",
      "Data columns (total 8 columns):\n",
      " #   Column       Non-Null Count    Dtype         \n",
      "---  ------       --------------    -----         \n",
      " 0   Invoice      1067371 non-null  object        \n",
      " 1   StockCode    1067371 non-null  object        \n",
      " 2   Description  1062989 non-null  object        \n",
      " 3   Quantity     1067371 non-null  int64         \n",
      " 4   InvoiceDate  1067371 non-null  datetime64[ns]\n",
      " 5   Price        1067371 non-null  float64       \n",
      " 6   Customer ID  824364 non-null   float64       \n",
      " 7   Country      1067371 non-null  object        \n",
      "dtypes: datetime64[ns](1), float64(2), int64(1), object(4)\n",
      "memory usage: 73.3+ MB\n"
     ]
    }
   ],
   "source": [
    "# Look at data types\n",
    "retail.info()"
   ]
  },
  {
   "cell_type": "code",
   "execution_count": 6,
   "id": "41d38c97",
   "metadata": {
    "ExecuteTime": {
     "end_time": "2023-10-23T22:05:33.876291Z",
     "start_time": "2023-10-23T22:05:33.317189Z"
    }
   },
   "outputs": [],
   "source": [
    "# Format string columns as string\n",
    "string_columns = ['Invoice', 'StockCode', 'Description', 'Country']\n",
    "retail[string_columns] = retail[string_columns].astype(str)"
   ]
  },
  {
   "cell_type": "code",
   "execution_count": 7,
   "id": "aa8149b7",
   "metadata": {
    "ExecuteTime": {
     "end_time": "2023-10-23T22:05:35.044416Z",
     "start_time": "2023-10-23T22:05:33.882265Z"
    }
   },
   "outputs": [],
   "source": [
    "# Customer ID is saved as as float, clean up and save as string\n",
    "retail['Customer ID'] = retail['Customer ID'].astype(str).str.replace('.0$', '', regex=True)"
   ]
  },
  {
   "cell_type": "code",
   "execution_count": 8,
   "id": "8e7c9bf4",
   "metadata": {
    "ExecuteTime": {
     "end_time": "2023-10-23T22:05:35.055973Z",
     "start_time": "2023-10-23T22:05:35.048595Z"
    }
   },
   "outputs": [],
   "source": [
    "retail.reset_index(drop=True, inplace=True)"
   ]
  },
  {
   "cell_type": "code",
   "execution_count": 9,
   "id": "33b1689c",
   "metadata": {
    "ExecuteTime": {
     "end_time": "2023-10-23T22:05:35.906380Z",
     "start_time": "2023-10-23T22:05:35.058618Z"
    }
   },
   "outputs": [],
   "source": [
    "# Save as parquet to decrease I/O for future\n",
    "retail.to_parquet('retail_data.parquet')"
   ]
  }
 ],
 "metadata": {
  "kernelspec": {
   "display_name": "Python 3 (ipykernel)",
   "language": "python",
   "name": "python3"
  },
  "language_info": {
   "codemirror_mode": {
    "name": "ipython",
    "version": 3
   },
   "file_extension": ".py",
   "mimetype": "text/x-python",
   "name": "python",
   "nbconvert_exporter": "python",
   "pygments_lexer": "ipython3",
   "version": "3.10.12"
  }
 },
 "nbformat": 4,
 "nbformat_minor": 5
}
