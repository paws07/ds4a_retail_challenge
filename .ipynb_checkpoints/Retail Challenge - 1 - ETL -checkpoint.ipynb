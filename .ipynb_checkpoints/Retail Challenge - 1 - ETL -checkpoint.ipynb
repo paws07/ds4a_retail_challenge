{
 "cells": [
  {
   "cell_type": "code",
   "execution_count": 1,
   "id": "6ab08ee7",
   "metadata": {
    "ExecuteTime": {
     "end_time": "2023-10-23T00:40:51.544878Z",
     "start_time": "2023-10-23T00:40:51.385669Z"
    }
   },
   "outputs": [
    {
     "name": "stdout",
     "output_type": "stream",
     "text": [
      " Volume in drive C has no label.\n",
      " Volume Serial Number is 46DA-AA0F\n",
      "\n",
      " Directory of C:\\Users\\Swap\\Desktop\\Retail Challange\n",
      "\n",
      "10/23/2023  02:57 PM    <DIR>          .\n",
      "10/23/2023  02:57 PM    <DIR>          ..\n",
      "10/23/2023  02:56 PM    <DIR>          .ipynb_checkpoints\n",
      "05/22/2023  03:20 PM        45,622,278 online_retail_II.xlsx\n",
      "10/23/2023  02:49 PM            93,888 Presentation.pptx\n",
      "10/18/2023  10:43 PM           442,274 Retail Challange.png\n",
      "10/23/2023  02:57 PM             5,003 Retail Challenge - 1 - ETL .ipynb\n",
      "10/23/2023  02:56 PM           531,750 Retail Challenge - 2 - EDA.ipynb\n",
      "10/23/2023  02:56 PM         2,218,472 Retail Challenge - 3.1 - Forecasting.ipynb\n",
      "10/22/2023  10:19 PM           505,324 Retail Challenge - 3.2 - Segmentation.ipynb\n",
      "               7 File(s)     49,418,989 bytes\n",
      "               3 Dir(s)  1,268,122,636,288 bytes free\n"
     ]
    }
   ],
   "source": [
    "%ls"
   ]
  },
  {
   "cell_type": "code",
   "execution_count": 2,
   "id": "f5ea8e1a",
   "metadata": {
    "ExecuteTime": {
     "end_time": "2023-10-23T00:40:51.943941Z",
     "start_time": "2023-10-23T00:40:51.551888Z"
    }
   },
   "outputs": [],
   "source": [
    "import pandas as pd"
   ]
  },
  {
   "cell_type": "code",
   "execution_count": 3,
   "id": "775edadc",
   "metadata": {
    "ExecuteTime": {
     "end_time": "2023-10-23T00:40:52.560158Z",
     "start_time": "2023-10-23T00:40:51.947432Z"
    }
   },
   "outputs": [],
   "source": [
    "# Read in the excel file\n",
    "retail_file = pd.ExcelFile('online_retail_II.xlsx')"
   ]
  },
  {
   "cell_type": "code",
   "execution_count": null,
   "id": "b4154c2b",
   "metadata": {
    "ExecuteTime": {
     "end_time": "2023-10-23T00:42:36.178073Z",
     "start_time": "2023-10-23T00:40:52.564024Z"
    }
   },
   "outputs": [],
   "source": [
    "# Read individual sheets, combine\n",
    "retail = pd.concat([retail_file.parse(sheet) for sheet in retail_file.sheet_names])"
   ]
  },
  {
   "cell_type": "code",
   "execution_count": null,
   "id": "edcd7877",
   "metadata": {
    "ExecuteTime": {
     "end_time": "2023-10-23T00:42:36.804477Z",
     "start_time": "2023-10-23T00:42:36.181302Z"
    }
   },
   "outputs": [],
   "source": [
    "# Look at data types\n",
    "retail.info()"
   ]
  },
  {
   "cell_type": "code",
   "execution_count": 6,
   "id": "41d38c97",
   "metadata": {
    "ExecuteTime": {
     "end_time": "2023-10-23T00:42:37.296909Z",
     "start_time": "2023-10-23T00:42:36.809620Z"
    }
   },
   "outputs": [],
   "source": [
    "# Format string columns as string\n",
    "string_columns = ['Invoice', 'StockCode', 'Description', 'Country']\n",
    "retail[string_columns] = retail[string_columns].astype(str)"
   ]
  },
  {
   "cell_type": "code",
   "execution_count": 7,
   "id": "aa8149b7",
   "metadata": {
    "ExecuteTime": {
     "end_time": "2023-10-23T00:42:38.366190Z",
     "start_time": "2023-10-23T00:42:37.300904Z"
    }
   },
   "outputs": [],
   "source": [
    "# Customer ID is saved as as float, clean up and save as string\n",
    "retail['Customer ID'] = retail['Customer ID'].astype(str).str.replace('.0$', '', regex=True)"
   ]
  },
  {
   "cell_type": "code",
   "execution_count": 8,
   "id": "8e7c9bf4",
   "metadata": {
    "ExecuteTime": {
     "end_time": "2023-10-23T00:42:40.659291Z",
     "start_time": "2023-10-23T00:42:40.653765Z"
    }
   },
   "outputs": [],
   "source": [
    "retail.reset_index(drop=True, inplace=True)"
   ]
  },
  {
   "cell_type": "code",
   "execution_count": 9,
   "id": "33b1689c",
   "metadata": {
    "ExecuteTime": {
     "end_time": "2023-10-23T00:42:42.117576Z",
     "start_time": "2023-10-23T00:42:41.389299Z"
    }
   },
   "outputs": [],
   "source": [
    "# Save as parquet to decrease I/O for future\n",
    "retail.to_parquet('retail_data.parquet')"
   ]
  }
 ],
 "metadata": {
  "kernelspec": {
   "display_name": "Python 3 (ipykernel)",
   "language": "python",
   "name": "python3"
  },
  "language_info": {
   "codemirror_mode": {
    "name": "ipython",
    "version": 3
   },
   "file_extension": ".py",
   "mimetype": "text/x-python",
   "name": "python",
   "nbconvert_exporter": "python",
   "pygments_lexer": "ipython3",
   "version": "3.10.9"
  }
 },
 "nbformat": 4,
 "nbformat_minor": 5
}
